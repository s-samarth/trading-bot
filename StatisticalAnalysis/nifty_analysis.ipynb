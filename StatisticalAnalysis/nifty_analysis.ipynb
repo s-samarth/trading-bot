{
 "cells": [
  {
   "cell_type": "markdown",
   "metadata": {},
   "source": [
    "# NIFTY50 Analysis"
   ]
  },
  {
   "cell_type": "code",
   "execution_count": null,
   "metadata": {},
   "outputs": [],
   "source": [
    "from datetime import datetime\n",
    "\n",
    "import pandas as pd\n",
    "import numpy as np\n",
    "\n",
    "import matplotlib.pyplot as plt\n",
    "import seaborn as sns"
   ]
  },
  {
   "cell_type": "code",
   "execution_count": null,
   "metadata": {},
   "outputs": [],
   "source": [
    "nifty_50 = pd.read_csv('Data/NIFTY50.csv')\n",
    "nifty_50 = nifty_50.iloc[2:].reset_index(drop=True)\n",
    "nifty_50.rename(columns={'Price': 'Date'}, inplace=True)\n",
    "nifty_50"
   ]
  },
  {
   "cell_type": "code",
   "execution_count": null,
   "metadata": {},
   "outputs": [],
   "source": [
    "nifty_50['Date'] = nifty_50['Date'].apply(lambda x: datetime.strptime(x, \"%Y-%m-%d\"))\n",
    "columns_to_convert = ['Close', 'High', 'Low', 'Open', 'Volume']\n",
    "nifty_50[columns_to_convert] = nifty_50[columns_to_convert].astype(float)"
   ]
  },
  {
   "cell_type": "code",
   "execution_count": null,
   "metadata": {},
   "outputs": [],
   "source": [
    "nifty_50.describe(include='all')"
   ]
  },
  {
   "cell_type": "code",
   "execution_count": null,
   "metadata": {},
   "outputs": [],
   "source": [
    "import plotly.graph_objects as go\n",
    "\n",
    "fig = go.Figure(data=[go.Candlestick(x=nifty_50['Date'],\n",
    "                open=nifty_50['Open'],\n",
    "                high=nifty_50['High'],\n",
    "                low=nifty_50['Low'],\n",
    "                close=nifty_50['Close'])])\n",
    "\n",
    "fig.show()"
   ]
  }
 ],
 "metadata": {
  "kernelspec": {
   "display_name": "trading_env",
   "language": "python",
   "name": "python3"
  },
  "language_info": {
   "codemirror_mode": {
    "name": "ipython",
    "version": 3
   },
   "file_extension": ".py",
   "mimetype": "text/x-python",
   "name": "python",
   "nbconvert_exporter": "python",
   "pygments_lexer": "ipython3",
   "version": "3.13.2"
  }
 },
 "nbformat": 4,
 "nbformat_minor": 2
}
